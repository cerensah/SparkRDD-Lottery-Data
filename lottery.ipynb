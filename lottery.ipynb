{
 "cells": [
  {
   "cell_type": "code",
   "execution_count": 2,
   "id": "67b3bbb5",
   "metadata": {},
   "outputs": [
    {
     "name": "stderr",
     "output_type": "stream",
     "text": [
      "                                                                                \r"
     ]
    },
    {
     "data": {
      "text/plain": [
       "[((3, 8, 40), 8),\n",
       " ((12, 19, 47), 8),\n",
       " ((1, 21, 24), 8),\n",
       " ((23, 39, 47), 7),\n",
       " ((10, 38, 41), 7)]"
      ]
     },
     "execution_count": 2,
     "metadata": {},
     "output_type": "execute_result"
    }
   ],
   "source": [
    "from pyspark import SparkContext\n",
    "from itertools import combinations\n",
    "sc = SparkContext.getOrCreate()\n",
    "\n",
    "\n",
    "lotteryRDD = sc.textFile(\"datasets/Lottery.txt\")\n",
    "\n",
    "\n",
    "lotteryRDD = lotteryRDD.flatMap(lambda line: line.split(\"}{\"))\n",
    "\n",
    "\n",
    "def splitAndFormat(line):\n",
    "\n",
    "    replacable = [\"{\",\"}\",'\"',\",\"]\n",
    "    for i in replacable:\n",
    "        line = line.replace(i,\"\")\n",
    "\n",
    "    arr = line.split(\"#\")\n",
    "   \n",
    "    nums = (int(arr[0][-2] + arr[0][-1] ),int(arr[1]),int(arr[2]),int(arr[3]),int(arr[4]), int(arr[5][0] + arr[5][1]))\n",
    "    \n",
    "    #In case the selected numbers are not in order, sorting them in increasing order\n",
    "    nums = sorted(nums)\n",
    "\n",
    "    triples = list(combinations(nums, 3))\n",
    "    \n",
    "                    \n",
    "    return triples            \n",
    "                    \n",
    "\n",
    "lotteryRDD = lotteryRDD.flatMap(lambda line : splitAndFormat(line))\n",
    "\n",
    "\n",
    "def addCounter(line):\n",
    "    return line,1\n",
    "\n",
    "lotteryRDD = lotteryRDD.map(lambda line : addCounter(line))\n",
    "\n",
    "lotteryRDD = lotteryRDD.reduceByKey(lambda x,y: x+y)\n",
    "\n",
    "lotteryRDD = lotteryRDD.sortBy(lambda x : x[1],ascending=False)    \n",
    "\n",
    "\n",
    "lotteryRDD.take(5)\n"
   ]
  },
  {
   "cell_type": "code",
   "execution_count": null,
   "id": "c2c0b609",
   "metadata": {},
   "outputs": [],
   "source": []
  }
 ],
 "metadata": {
  "kernelspec": {
   "display_name": "Python 3 (ipykernel)",
   "language": "python",
   "name": "python3"
  },
  "language_info": {
   "codemirror_mode": {
    "name": "ipython",
    "version": 3
   },
   "file_extension": ".py",
   "mimetype": "text/x-python",
   "name": "python",
   "nbconvert_exporter": "python",
   "pygments_lexer": "ipython3",
   "version": "3.11.5"
  }
 },
 "nbformat": 4,
 "nbformat_minor": 5
}
